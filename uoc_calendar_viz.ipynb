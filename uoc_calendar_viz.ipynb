{
 "cells": [
  {
   "cell_type": "code",
   "execution_count": 2,
   "metadata": {
    "collapsed": true,
    "pycharm": {
     "name": "#%%\n"
    }
   },
   "outputs": [],
   "source": [
    "# ICS parsing based on https://github.com/crystoll/oura-ring/blob/main/external_correlations.ipynb\n",
    "\n",
    "import ics\n",
    "import pandas as pd\n",
    "\n",
    "def event_to_dict(event):\n",
    "    return {\n",
    "        'name': event.name,\n",
    "        'begin': event.begin.date().strftime('%Y-%m-%d'),\n",
    "        'duration_hours': event.duration.seconds / 3600,\n",
    "    }\n",
    "\n",
    "with open('data/uoc_semestre1.ics','r') as f:\n",
    "    icsFile = ics.Calendar(f.read())\n",
    "    events = [event_to_dict(event) for event in icsFile.events]"
   ]
  },
  {
   "cell_type": "code",
   "execution_count": 7,
   "outputs": [
    {
     "name": "stdout",
     "output_type": "stream",
     "text": [
      "<class 'pandas.core.frame.DataFrame'>\n",
      "RangeIndex: 32 entries, 0 to 31\n",
      "Data columns (total 3 columns):\n",
      " #   Column          Non-Null Count  Dtype         \n",
      "---  ------          --------------  -----         \n",
      " 0   name            32 non-null     object        \n",
      " 1   begin           32 non-null     datetime64[ns]\n",
      " 2   duration_hours  32 non-null     float64       \n",
      "dtypes: datetime64[ns](1), float64(1), object(1)\n",
      "memory usage: 896.0+ bytes\n"
     ]
    }
   ],
   "source": [
    "# Let's create our dataframe from events\n",
    "calendar = pd.DataFrame(events)\n",
    "calendar['begin'] = pd.to_datetime(calendar['begin']).dt.normalize()\n",
    "calendar.info()"
   ],
   "metadata": {
    "collapsed": false,
    "pycharm": {
     "name": "#%%\n"
    }
   }
  },
  {
   "cell_type": "code",
   "execution_count": 8,
   "outputs": [
    {
     "data": {
      "text/plain": "                                                 name      begin  \\\n30  PEC1: Â¿QuÃ© son los datos y cuÃ¡l es su ciclo... 2022-10-18   \n19  PEC1: PreparaciÃ³n de datos [Modelos avanzados... 2022-10-23   \n16  Test de los contenidos teÃ³ricos del mÃ³dulo 1... 2022-10-23   \n27  PEC1 [Fundamentos de la ciencia de datos aula ... 2022-10-30   \n17  A3: EvaluaciÃ³n de buenas y malas visualizacio... 2022-11-02   \n21  A1 - Preprocesado de datos [EstadÃ­stica avanz... 2022-11-03   \n24  PEC 1 [MinerÃ­a de datos aula 2] (Entrega de l... 2022-11-09   \n4   PEC2: MÃ©todos no supervisados [Modelos avanza... 2022-11-20   \n29  Test de los contenidos teÃ³ricos del mÃ³dulo 2... 2022-11-20   \n5   PrÃ¡ctica 1: Â¿CÃ³mo podemos capturar los dato... 2022-11-22   \n1   PEC 2 [MinerÃ­a de datos aula 2] (Entrega de l... 2022-11-30   \n11  A5: Estudio de tÃ©cnicas de visualizaciÃ³n de ... 2022-11-30   \n23  A2 - AnÃ¡lisis estadÃ­stico I [EstadÃ­stica av... 2022-12-02   \n6   PEC2 [Fundamentos de la ciencia de datos aula ... 2022-12-11   \n13  PEC2: Â¿Es necesario preprocesar los datos? [T... 2022-12-13   \n26  A7: SelecciÃ³n del conjunto de datos (PrÃ¡ctic... 2022-12-14   \n2   PrÃ¡ctica 1 - SelecciÃ³n y preprocesado de un ... 2022-12-14   \n3   PEC3: MÃ©todos supervisados [Modelos avanzados... 2022-12-18   \n15  Test de los contenidos teÃ³ricos del mÃ³dulo 3... 2022-12-18   \n0   PEC 3 [MinerÃ­a de datos aula 2] (Entrega de l... 2022-12-22   \n9   A3 - ModelizaciÃ³n predictiva [EstadÃ­stica av... 2022-12-23   \n28  A8: CreaciÃ³n de una visualizaciÃ³n data story... 2022-12-30   \n14  PrÃ¡ctica 2: Â¿CÃ³mo realizar la limpieza y an... 2023-01-13   \n25  PEC4: CombinaciÃ³n de modelos [Modelos avanzad... 2023-01-15   \n8   Test de los contenidos teÃ³ricos del mÃ³dulo 4... 2023-01-15   \n7   PEC3 [Fundamentos de la ciencia de datos aula ... 2023-01-22   \n22  A9: CreaciÃ³n de la visualizaciÃ³n y entrega d... 2023-01-23   \n12  A4 - AnÃ¡lisis estadÃ­stico avanzado: AnÃ¡lisi... 2023-01-23   \n18  5. Debate: Cierre (parte 1) [TipologÃ­a y cicl... 2023-01-23   \n20  PrÃ¡ctica 2 - Proyecto de minerÃ­a de datos [M... 2023-01-25   \n10  5. Debate: Cierre (parte 2) [TipologÃ­a y cicl... 2023-01-27   \n31  PEC5: Lectura de artÃ­culos del estado del art... 2023-01-29   \n\n    duration_hours  \n30             0.0  \n19             0.0  \n16             0.0  \n27             0.0  \n17             0.0  \n21             0.0  \n24             0.0  \n4              0.0  \n29             0.0  \n5              0.0  \n1              0.0  \n11             0.0  \n23             0.0  \n6              0.0  \n13             0.0  \n26             0.0  \n2              0.0  \n3              0.0  \n15             0.0  \n0              0.0  \n9              0.0  \n28             0.0  \n14             0.0  \n25             0.0  \n8              0.0  \n7              0.0  \n22             0.0  \n12             0.0  \n18             0.0  \n20             0.0  \n10             0.0  \n31             0.0  ",
      "text/html": "<div>\n<style scoped>\n    .dataframe tbody tr th:only-of-type {\n        vertical-align: middle;\n    }\n\n    .dataframe tbody tr th {\n        vertical-align: top;\n    }\n\n    .dataframe thead th {\n        text-align: right;\n    }\n</style>\n<table border=\"1\" class=\"dataframe\">\n  <thead>\n    <tr style=\"text-align: right;\">\n      <th></th>\n      <th>name</th>\n      <th>begin</th>\n      <th>duration_hours</th>\n    </tr>\n  </thead>\n  <tbody>\n    <tr>\n      <th>30</th>\n      <td>PEC1: Â¿QuÃ© son los datos y cuÃ¡l es su ciclo...</td>\n      <td>2022-10-18</td>\n      <td>0.0</td>\n    </tr>\n    <tr>\n      <th>19</th>\n      <td>PEC1: PreparaciÃ³n de datos [Modelos avanzados...</td>\n      <td>2022-10-23</td>\n      <td>0.0</td>\n    </tr>\n    <tr>\n      <th>16</th>\n      <td>Test de los contenidos teÃ³ricos del mÃ³dulo 1...</td>\n      <td>2022-10-23</td>\n      <td>0.0</td>\n    </tr>\n    <tr>\n      <th>27</th>\n      <td>PEC1 [Fundamentos de la ciencia de datos aula ...</td>\n      <td>2022-10-30</td>\n      <td>0.0</td>\n    </tr>\n    <tr>\n      <th>17</th>\n      <td>A3: EvaluaciÃ³n de buenas y malas visualizacio...</td>\n      <td>2022-11-02</td>\n      <td>0.0</td>\n    </tr>\n    <tr>\n      <th>21</th>\n      <td>A1 - Preprocesado de datos [EstadÃ­stica avanz...</td>\n      <td>2022-11-03</td>\n      <td>0.0</td>\n    </tr>\n    <tr>\n      <th>24</th>\n      <td>PEC 1 [MinerÃ­a de datos aula 2] (Entrega de l...</td>\n      <td>2022-11-09</td>\n      <td>0.0</td>\n    </tr>\n    <tr>\n      <th>4</th>\n      <td>PEC2: MÃ©todos no supervisados [Modelos avanza...</td>\n      <td>2022-11-20</td>\n      <td>0.0</td>\n    </tr>\n    <tr>\n      <th>29</th>\n      <td>Test de los contenidos teÃ³ricos del mÃ³dulo 2...</td>\n      <td>2022-11-20</td>\n      <td>0.0</td>\n    </tr>\n    <tr>\n      <th>5</th>\n      <td>PrÃ¡ctica 1: Â¿CÃ³mo podemos capturar los dato...</td>\n      <td>2022-11-22</td>\n      <td>0.0</td>\n    </tr>\n    <tr>\n      <th>1</th>\n      <td>PEC 2 [MinerÃ­a de datos aula 2] (Entrega de l...</td>\n      <td>2022-11-30</td>\n      <td>0.0</td>\n    </tr>\n    <tr>\n      <th>11</th>\n      <td>A5: Estudio de tÃ©cnicas de visualizaciÃ³n de ...</td>\n      <td>2022-11-30</td>\n      <td>0.0</td>\n    </tr>\n    <tr>\n      <th>23</th>\n      <td>A2 - AnÃ¡lisis estadÃ­stico I [EstadÃ­stica av...</td>\n      <td>2022-12-02</td>\n      <td>0.0</td>\n    </tr>\n    <tr>\n      <th>6</th>\n      <td>PEC2 [Fundamentos de la ciencia de datos aula ...</td>\n      <td>2022-12-11</td>\n      <td>0.0</td>\n    </tr>\n    <tr>\n      <th>13</th>\n      <td>PEC2: Â¿Es necesario preprocesar los datos? [T...</td>\n      <td>2022-12-13</td>\n      <td>0.0</td>\n    </tr>\n    <tr>\n      <th>26</th>\n      <td>A7: SelecciÃ³n del conjunto de datos (PrÃ¡ctic...</td>\n      <td>2022-12-14</td>\n      <td>0.0</td>\n    </tr>\n    <tr>\n      <th>2</th>\n      <td>PrÃ¡ctica 1 - SelecciÃ³n y preprocesado de un ...</td>\n      <td>2022-12-14</td>\n      <td>0.0</td>\n    </tr>\n    <tr>\n      <th>3</th>\n      <td>PEC3: MÃ©todos supervisados [Modelos avanzados...</td>\n      <td>2022-12-18</td>\n      <td>0.0</td>\n    </tr>\n    <tr>\n      <th>15</th>\n      <td>Test de los contenidos teÃ³ricos del mÃ³dulo 3...</td>\n      <td>2022-12-18</td>\n      <td>0.0</td>\n    </tr>\n    <tr>\n      <th>0</th>\n      <td>PEC 3 [MinerÃ­a de datos aula 2] (Entrega de l...</td>\n      <td>2022-12-22</td>\n      <td>0.0</td>\n    </tr>\n    <tr>\n      <th>9</th>\n      <td>A3 - ModelizaciÃ³n predictiva [EstadÃ­stica av...</td>\n      <td>2022-12-23</td>\n      <td>0.0</td>\n    </tr>\n    <tr>\n      <th>28</th>\n      <td>A8: CreaciÃ³n de una visualizaciÃ³n data story...</td>\n      <td>2022-12-30</td>\n      <td>0.0</td>\n    </tr>\n    <tr>\n      <th>14</th>\n      <td>PrÃ¡ctica 2: Â¿CÃ³mo realizar la limpieza y an...</td>\n      <td>2023-01-13</td>\n      <td>0.0</td>\n    </tr>\n    <tr>\n      <th>25</th>\n      <td>PEC4: CombinaciÃ³n de modelos [Modelos avanzad...</td>\n      <td>2023-01-15</td>\n      <td>0.0</td>\n    </tr>\n    <tr>\n      <th>8</th>\n      <td>Test de los contenidos teÃ³ricos del mÃ³dulo 4...</td>\n      <td>2023-01-15</td>\n      <td>0.0</td>\n    </tr>\n    <tr>\n      <th>7</th>\n      <td>PEC3 [Fundamentos de la ciencia de datos aula ...</td>\n      <td>2023-01-22</td>\n      <td>0.0</td>\n    </tr>\n    <tr>\n      <th>22</th>\n      <td>A9: CreaciÃ³n de la visualizaciÃ³n y entrega d...</td>\n      <td>2023-01-23</td>\n      <td>0.0</td>\n    </tr>\n    <tr>\n      <th>12</th>\n      <td>A4 - AnÃ¡lisis estadÃ­stico avanzado: AnÃ¡lisi...</td>\n      <td>2023-01-23</td>\n      <td>0.0</td>\n    </tr>\n    <tr>\n      <th>18</th>\n      <td>5. Debate: Cierre (parte 1) [TipologÃ­a y cicl...</td>\n      <td>2023-01-23</td>\n      <td>0.0</td>\n    </tr>\n    <tr>\n      <th>20</th>\n      <td>PrÃ¡ctica 2 - Proyecto de minerÃ­a de datos [M...</td>\n      <td>2023-01-25</td>\n      <td>0.0</td>\n    </tr>\n    <tr>\n      <th>10</th>\n      <td>5. Debate: Cierre (parte 2) [TipologÃ­a y cicl...</td>\n      <td>2023-01-27</td>\n      <td>0.0</td>\n    </tr>\n    <tr>\n      <th>31</th>\n      <td>PEC5: Lectura de artÃ­culos del estado del art...</td>\n      <td>2023-01-29</td>\n      <td>0.0</td>\n    </tr>\n  </tbody>\n</table>\n</div>"
     },
     "execution_count": 8,
     "metadata": {},
     "output_type": "execute_result"
    }
   ],
   "source": [
    "calendar.sort_values(by='begin')"
   ],
   "metadata": {
    "collapsed": false,
    "pycharm": {
     "name": "#%%\n"
    }
   }
  },
  {
   "cell_type": "code",
   "execution_count": null,
   "outputs": [],
   "source": [],
   "metadata": {
    "collapsed": false,
    "pycharm": {
     "name": "#%%\n"
    }
   }
  }
 ],
 "metadata": {
  "kernelspec": {
   "display_name": "Python 3",
   "language": "python",
   "name": "python3"
  },
  "language_info": {
   "codemirror_mode": {
    "name": "ipython",
    "version": 2
   },
   "file_extension": ".py",
   "mimetype": "text/x-python",
   "name": "python",
   "nbconvert_exporter": "python",
   "pygments_lexer": "ipython2",
   "version": "2.7.6"
  }
 },
 "nbformat": 4,
 "nbformat_minor": 0
}